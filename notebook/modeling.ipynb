{
 "cells": [
  {
   "cell_type": "code",
   "execution_count": 1,
   "id": "6d2e8dbb",
   "metadata": {},
   "outputs": [],
   "source": [
    "import joblib\n",
    "import numpy as np\n",
    "import pandas as pd\n",
    "\n",
    "from sklearn.ensemble import RandomForestClassifier\n",
    "from sklearn.model_selection import cross_val_score, GridSearchCV\n",
    "from sklearn.neighbors import KNeighborsClassifier"
   ]
  },
  {
   "cell_type": "markdown",
   "id": "a661d7e7",
   "metadata": {},
   "source": [
    "## 1. import data"
   ]
  },
  {
   "cell_type": "markdown",
   "id": "3a4f0493",
   "metadata": {},
   "source": [
    "### load data"
   ]
  },
  {
   "cell_type": "code",
   "execution_count": 2,
   "id": "5e3ba65c",
   "metadata": {},
   "outputs": [
    {
     "data": {
      "text/html": [
       "<div>\n",
       "<style scoped>\n",
       "    .dataframe tbody tr th:only-of-type {\n",
       "        vertical-align: middle;\n",
       "    }\n",
       "\n",
       "    .dataframe tbody tr th {\n",
       "        vertical-align: top;\n",
       "    }\n",
       "\n",
       "    .dataframe thead th {\n",
       "        text-align: right;\n",
       "    }\n",
       "</style>\n",
       "<table border=\"1\" class=\"dataframe\">\n",
       "  <thead>\n",
       "    <tr style=\"text-align: right;\">\n",
       "      <th></th>\n",
       "      <th>Artificial object</th>\n",
       "      <th>Country</th>\n",
       "      <th>Year</th>\n",
       "      <th>Mass (lb)</th>\n",
       "      <th>Mass (kg)</th>\n",
       "      <th>Status</th>\n",
       "      <th>Location</th>\n",
       "    </tr>\n",
       "  </thead>\n",
       "  <tbody>\n",
       "    <tr>\n",
       "      <th>0</th>\n",
       "      <td>Luna 2</td>\n",
       "      <td>Soviet Union</td>\n",
       "      <td>1959</td>\n",
       "      <td>860</td>\n",
       "      <td>390</td>\n",
       "      <td>Intentionally crashed</td>\n",
       "      <td>29°06′N 0°00′E﻿ / ﻿29.1°N 0°E</td>\n",
       "    </tr>\n",
       "    <tr>\n",
       "      <th>1</th>\n",
       "      <td>Luna 2 Third stage of Vostok rocket</td>\n",
       "      <td>Soviet Union</td>\n",
       "      <td>1959</td>\n",
       "      <td>20100</td>\n",
       "      <td>9100</td>\n",
       "      <td>Intentionally crashed</td>\n",
       "      <td>29°06′N 0°00′E﻿ / ﻿29.1°N 0°E</td>\n",
       "    </tr>\n",
       "    <tr>\n",
       "      <th>2</th>\n",
       "      <td>Ranger 4</td>\n",
       "      <td>United States</td>\n",
       "      <td>1962</td>\n",
       "      <td>730</td>\n",
       "      <td>331</td>\n",
       "      <td>Intentionally crashed</td>\n",
       "      <td>15°30′S 130°42′W﻿ / ﻿15.5°S 130.7°W</td>\n",
       "    </tr>\n",
       "    <tr>\n",
       "      <th>3</th>\n",
       "      <td>Ranger 6</td>\n",
       "      <td>United States</td>\n",
       "      <td>1964</td>\n",
       "      <td>840</td>\n",
       "      <td>381</td>\n",
       "      <td>Intentionally crashed</td>\n",
       "      <td>9°21′29″N 21°28′48″E﻿ / ﻿9.358°N 21.480°E</td>\n",
       "    </tr>\n",
       "    <tr>\n",
       "      <th>4</th>\n",
       "      <td>Ranger 7</td>\n",
       "      <td>United States</td>\n",
       "      <td>1964</td>\n",
       "      <td>805</td>\n",
       "      <td>365</td>\n",
       "      <td>Intentionally crashed</td>\n",
       "      <td>10°38′S 20°36′W﻿ / ﻿10.63°S 20.60°W</td>\n",
       "    </tr>\n",
       "    <tr>\n",
       "      <th>...</th>\n",
       "      <td>...</td>\n",
       "      <td>...</td>\n",
       "      <td>...</td>\n",
       "      <td>...</td>\n",
       "      <td>...</td>\n",
       "      <td>...</td>\n",
       "      <td>...</td>\n",
       "    </tr>\n",
       "    <tr>\n",
       "      <th>84</th>\n",
       "      <td>Hakuto-R Mission 1</td>\n",
       "      <td>Japan</td>\n",
       "      <td>2023</td>\n",
       "      <td>750</td>\n",
       "      <td>340</td>\n",
       "      <td>Crashed</td>\n",
       "      <td>47°34′52″N 44°05′38″E﻿ / ﻿47.581°N 44.094°E</td>\n",
       "    </tr>\n",
       "    <tr>\n",
       "      <th>85</th>\n",
       "      <td>Emirates Lunar Mission</td>\n",
       "      <td>United Arab Emirates</td>\n",
       "      <td>2023</td>\n",
       "      <td>750</td>\n",
       "      <td>340</td>\n",
       "      <td>Crashed</td>\n",
       "      <td>47°34′52″N 44°05′38″E﻿ / ﻿47.581°N 44.094°E</td>\n",
       "    </tr>\n",
       "    <tr>\n",
       "      <th>86</th>\n",
       "      <td>Luna 25</td>\n",
       "      <td>Russia</td>\n",
       "      <td>2023</td>\n",
       "      <td>3860</td>\n",
       "      <td>1750</td>\n",
       "      <td>Crashed</td>\n",
       "      <td>NaN</td>\n",
       "    </tr>\n",
       "    <tr>\n",
       "      <th>87</th>\n",
       "      <td>Chandrayaan-3 Vikram lander Pragyan rover</td>\n",
       "      <td>India</td>\n",
       "      <td>2023</td>\n",
       "      <td>3863</td>\n",
       "      <td>1752</td>\n",
       "      <td>Operational</td>\n",
       "      <td>69°22′01″S 32°20′53″E﻿ / ﻿69.367°S 32.348°E</td>\n",
       "    </tr>\n",
       "    <tr>\n",
       "      <th>88</th>\n",
       "      <td>Total estimated dry mass</td>\n",
       "      <td>Total estimated dry mass</td>\n",
       "      <td>Total estimated dry mass</td>\n",
       "      <td>453791</td>\n",
       "      <td>205868</td>\n",
       "      <td>NaN</td>\n",
       "      <td>NaN</td>\n",
       "    </tr>\n",
       "  </tbody>\n",
       "</table>\n",
       "<p>89 rows × 7 columns</p>\n",
       "</div>"
      ],
      "text/plain": [
       "                            Artificial object                   Country  \\\n",
       "0                                      Luna 2              Soviet Union   \n",
       "1         Luna 2 Third stage of Vostok rocket              Soviet Union   \n",
       "2                                    Ranger 4             United States   \n",
       "3                                    Ranger 6             United States   \n",
       "4                                    Ranger 7             United States   \n",
       "..                                        ...                       ...   \n",
       "84                         Hakuto-R Mission 1                     Japan   \n",
       "85                     Emirates Lunar Mission      United Arab Emirates   \n",
       "86                                    Luna 25                    Russia   \n",
       "87  Chandrayaan-3 Vikram lander Pragyan rover                     India   \n",
       "88                   Total estimated dry mass  Total estimated dry mass   \n",
       "\n",
       "                        Year Mass (lb) Mass (kg)                 Status  \\\n",
       "0                       1959       860       390  Intentionally crashed   \n",
       "1                       1959     20100      9100  Intentionally crashed   \n",
       "2                       1962       730       331  Intentionally crashed   \n",
       "3                       1964       840       381  Intentionally crashed   \n",
       "4                       1964       805       365  Intentionally crashed   \n",
       "..                       ...       ...       ...                    ...   \n",
       "84                      2023       750       340                Crashed   \n",
       "85                      2023       750       340                Crashed   \n",
       "86                      2023      3860      1750                Crashed   \n",
       "87                      2023      3863      1752            Operational   \n",
       "88  Total estimated dry mass    453791    205868                    NaN   \n",
       "\n",
       "                                       Location  \n",
       "0                 29°06′N 0°00′E﻿ / ﻿29.1°N 0°E  \n",
       "1                 29°06′N 0°00′E﻿ / ﻿29.1°N 0°E  \n",
       "2           15°30′S 130°42′W﻿ / ﻿15.5°S 130.7°W  \n",
       "3     9°21′29″N 21°28′48″E﻿ / ﻿9.358°N 21.480°E  \n",
       "4           10°38′S 20°36′W﻿ / ﻿10.63°S 20.60°W  \n",
       "..                                          ...  \n",
       "84  47°34′52″N 44°05′38″E﻿ / ﻿47.581°N 44.094°E  \n",
       "85  47°34′52″N 44°05′38″E﻿ / ﻿47.581°N 44.094°E  \n",
       "86                                          NaN  \n",
       "87  69°22′01″S 32°20′53″E﻿ / ﻿69.367°S 32.348°E  \n",
       "88                                          NaN  \n",
       "\n",
       "[89 rows x 7 columns]"
      ]
     },
     "execution_count": 2,
     "metadata": {},
     "output_type": "execute_result"
    }
   ],
   "source": [
    "df = pd.read_csv('../data/List of Artificial Objects on the Moon.csv', index_col=0)\n",
    "df"
   ]
  },
  {
   "cell_type": "code",
   "execution_count": 3,
   "id": "823b28f8",
   "metadata": {},
   "outputs": [],
   "source": [
    "# baris terkahir bukan merupakan data artifitial object\n",
    "df = df[:-1]"
   ]
  },
  {
   "cell_type": "code",
   "execution_count": 4,
   "id": "adb80ccb",
   "metadata": {},
   "outputs": [
    {
     "data": {
      "text/html": [
       "<div>\n",
       "<style scoped>\n",
       "    .dataframe tbody tr th:only-of-type {\n",
       "        vertical-align: middle;\n",
       "    }\n",
       "\n",
       "    .dataframe tbody tr th {\n",
       "        vertical-align: top;\n",
       "    }\n",
       "\n",
       "    .dataframe thead th {\n",
       "        text-align: right;\n",
       "    }\n",
       "</style>\n",
       "<table border=\"1\" class=\"dataframe\">\n",
       "  <thead>\n",
       "    <tr style=\"text-align: right;\">\n",
       "      <th></th>\n",
       "      <th>Artificial object</th>\n",
       "      <th>Country</th>\n",
       "      <th>Year</th>\n",
       "      <th>Mass (lb)</th>\n",
       "      <th>Mass (kg)</th>\n",
       "      <th>Status</th>\n",
       "      <th>Location</th>\n",
       "    </tr>\n",
       "  </thead>\n",
       "  <tbody>\n",
       "    <tr>\n",
       "      <th>0</th>\n",
       "      <td>Luna 2</td>\n",
       "      <td>Soviet Union</td>\n",
       "      <td>1959</td>\n",
       "      <td>860</td>\n",
       "      <td>390</td>\n",
       "      <td>Intentionally crashed</td>\n",
       "      <td>29°06′N 0°00′E﻿ / ﻿29.1°N 0°E</td>\n",
       "    </tr>\n",
       "    <tr>\n",
       "      <th>1</th>\n",
       "      <td>Luna 2 Third stage of Vostok rocket</td>\n",
       "      <td>Soviet Union</td>\n",
       "      <td>1959</td>\n",
       "      <td>20100</td>\n",
       "      <td>9100</td>\n",
       "      <td>Intentionally crashed</td>\n",
       "      <td>29°06′N 0°00′E﻿ / ﻿29.1°N 0°E</td>\n",
       "    </tr>\n",
       "    <tr>\n",
       "      <th>2</th>\n",
       "      <td>Ranger 4</td>\n",
       "      <td>United States</td>\n",
       "      <td>1962</td>\n",
       "      <td>730</td>\n",
       "      <td>331</td>\n",
       "      <td>Intentionally crashed</td>\n",
       "      <td>15°30′S 130°42′W﻿ / ﻿15.5°S 130.7°W</td>\n",
       "    </tr>\n",
       "    <tr>\n",
       "      <th>3</th>\n",
       "      <td>Ranger 6</td>\n",
       "      <td>United States</td>\n",
       "      <td>1964</td>\n",
       "      <td>840</td>\n",
       "      <td>381</td>\n",
       "      <td>Intentionally crashed</td>\n",
       "      <td>9°21′29″N 21°28′48″E﻿ / ﻿9.358°N 21.480°E</td>\n",
       "    </tr>\n",
       "    <tr>\n",
       "      <th>4</th>\n",
       "      <td>Ranger 7</td>\n",
       "      <td>United States</td>\n",
       "      <td>1964</td>\n",
       "      <td>805</td>\n",
       "      <td>365</td>\n",
       "      <td>Intentionally crashed</td>\n",
       "      <td>10°38′S 20°36′W﻿ / ﻿10.63°S 20.60°W</td>\n",
       "    </tr>\n",
       "    <tr>\n",
       "      <th>...</th>\n",
       "      <td>...</td>\n",
       "      <td>...</td>\n",
       "      <td>...</td>\n",
       "      <td>...</td>\n",
       "      <td>...</td>\n",
       "      <td>...</td>\n",
       "      <td>...</td>\n",
       "    </tr>\n",
       "    <tr>\n",
       "      <th>83</th>\n",
       "      <td>Manfred Memorial Moon Mission</td>\n",
       "      <td>Luxembourg</td>\n",
       "      <td>2022</td>\n",
       "      <td>31</td>\n",
       "      <td>14</td>\n",
       "      <td>Crashed</td>\n",
       "      <td>5°13′34″N 125°30′50″W﻿ / ﻿5.226°N 125.514°W</td>\n",
       "    </tr>\n",
       "    <tr>\n",
       "      <th>84</th>\n",
       "      <td>Hakuto-R Mission 1</td>\n",
       "      <td>Japan</td>\n",
       "      <td>2023</td>\n",
       "      <td>750</td>\n",
       "      <td>340</td>\n",
       "      <td>Crashed</td>\n",
       "      <td>47°34′52″N 44°05′38″E﻿ / ﻿47.581°N 44.094°E</td>\n",
       "    </tr>\n",
       "    <tr>\n",
       "      <th>85</th>\n",
       "      <td>Emirates Lunar Mission</td>\n",
       "      <td>United Arab Emirates</td>\n",
       "      <td>2023</td>\n",
       "      <td>750</td>\n",
       "      <td>340</td>\n",
       "      <td>Crashed</td>\n",
       "      <td>47°34′52″N 44°05′38″E﻿ / ﻿47.581°N 44.094°E</td>\n",
       "    </tr>\n",
       "    <tr>\n",
       "      <th>86</th>\n",
       "      <td>Luna 25</td>\n",
       "      <td>Russia</td>\n",
       "      <td>2023</td>\n",
       "      <td>3860</td>\n",
       "      <td>1750</td>\n",
       "      <td>Crashed</td>\n",
       "      <td>NaN</td>\n",
       "    </tr>\n",
       "    <tr>\n",
       "      <th>87</th>\n",
       "      <td>Chandrayaan-3 Vikram lander Pragyan rover</td>\n",
       "      <td>India</td>\n",
       "      <td>2023</td>\n",
       "      <td>3863</td>\n",
       "      <td>1752</td>\n",
       "      <td>Operational</td>\n",
       "      <td>69°22′01″S 32°20′53″E﻿ / ﻿69.367°S 32.348°E</td>\n",
       "    </tr>\n",
       "  </tbody>\n",
       "</table>\n",
       "<p>88 rows × 7 columns</p>\n",
       "</div>"
      ],
      "text/plain": [
       "                            Artificial object               Country  Year  \\\n",
       "0                                      Luna 2          Soviet Union  1959   \n",
       "1         Luna 2 Third stage of Vostok rocket          Soviet Union  1959   \n",
       "2                                    Ranger 4         United States  1962   \n",
       "3                                    Ranger 6         United States  1964   \n",
       "4                                    Ranger 7         United States  1964   \n",
       "..                                        ...                   ...   ...   \n",
       "83              Manfred Memorial Moon Mission            Luxembourg  2022   \n",
       "84                         Hakuto-R Mission 1                 Japan  2023   \n",
       "85                     Emirates Lunar Mission  United Arab Emirates  2023   \n",
       "86                                    Luna 25                Russia  2023   \n",
       "87  Chandrayaan-3 Vikram lander Pragyan rover                 India  2023   \n",
       "\n",
       "   Mass (lb) Mass (kg)                 Status  \\\n",
       "0        860       390  Intentionally crashed   \n",
       "1      20100      9100  Intentionally crashed   \n",
       "2        730       331  Intentionally crashed   \n",
       "3        840       381  Intentionally crashed   \n",
       "4        805       365  Intentionally crashed   \n",
       "..       ...       ...                    ...   \n",
       "83        31        14                Crashed   \n",
       "84       750       340                Crashed   \n",
       "85       750       340                Crashed   \n",
       "86      3860      1750                Crashed   \n",
       "87      3863      1752            Operational   \n",
       "\n",
       "                                       Location  \n",
       "0                 29°06′N 0°00′E﻿ / ﻿29.1°N 0°E  \n",
       "1                 29°06′N 0°00′E﻿ / ﻿29.1°N 0°E  \n",
       "2           15°30′S 130°42′W﻿ / ﻿15.5°S 130.7°W  \n",
       "3     9°21′29″N 21°28′48″E﻿ / ﻿9.358°N 21.480°E  \n",
       "4           10°38′S 20°36′W﻿ / ﻿10.63°S 20.60°W  \n",
       "..                                          ...  \n",
       "83  5°13′34″N 125°30′50″W﻿ / ﻿5.226°N 125.514°W  \n",
       "84  47°34′52″N 44°05′38″E﻿ / ﻿47.581°N 44.094°E  \n",
       "85  47°34′52″N 44°05′38″E﻿ / ﻿47.581°N 44.094°E  \n",
       "86                                          NaN  \n",
       "87  69°22′01″S 32°20′53″E﻿ / ﻿69.367°S 32.348°E  \n",
       "\n",
       "[88 rows x 7 columns]"
      ]
     },
     "execution_count": 4,
     "metadata": {},
     "output_type": "execute_result"
    }
   ],
   "source": [
    "df"
   ]
  },
  {
   "cell_type": "markdown",
   "id": "3155f829",
   "metadata": {},
   "source": [
    "### check data shapes & types"
   ]
  },
  {
   "cell_type": "code",
   "execution_count": 5,
   "id": "5bd91700",
   "metadata": {},
   "outputs": [
    {
     "data": {
      "text/plain": [
       "(88, 7)"
      ]
     },
     "execution_count": 5,
     "metadata": {},
     "output_type": "execute_result"
    }
   ],
   "source": [
    "df.shape"
   ]
  },
  {
   "cell_type": "code",
   "execution_count": 6,
   "id": "2e17b3c6",
   "metadata": {},
   "outputs": [
    {
     "data": {
      "text/plain": [
       "Artificial object    object\n",
       "Country              object\n",
       "Year                 object\n",
       "Mass (lb)            object\n",
       "Mass (kg)            object\n",
       "Status               object\n",
       "Location             object\n",
       "dtype: object"
      ]
     },
     "execution_count": 6,
     "metadata": {},
     "output_type": "execute_result"
    }
   ],
   "source": [
    "df.dtypes"
   ]
  },
  {
   "cell_type": "code",
   "execution_count": 7,
   "id": "42c633d5",
   "metadata": {},
   "outputs": [
    {
     "name": "stdout",
     "output_type": "stream",
     "text": [
      "<class 'pandas.core.frame.DataFrame'>\n",
      "Int64Index: 88 entries, 0 to 87\n",
      "Data columns (total 7 columns):\n",
      " #   Column             Non-Null Count  Dtype \n",
      "---  ------             --------------  ----- \n",
      " 0   Artificial object  88 non-null     object\n",
      " 1   Country            88 non-null     object\n",
      " 2   Year               88 non-null     object\n",
      " 3   Mass (lb)          88 non-null     object\n",
      " 4   Mass (kg)          88 non-null     object\n",
      " 5   Status             88 non-null     object\n",
      " 6   Location           87 non-null     object\n",
      "dtypes: object(7)\n",
      "memory usage: 5.5+ KB\n"
     ]
    }
   ],
   "source": [
    "df.info()"
   ]
  },
  {
   "cell_type": "markdown",
   "id": "a7787973",
   "metadata": {},
   "source": [
    "### check duplicate"
   ]
  },
  {
   "cell_type": "code",
   "execution_count": 8,
   "id": "92cdeae5",
   "metadata": {},
   "outputs": [
    {
     "data": {
      "text/plain": [
       "0"
      ]
     },
     "execution_count": 8,
     "metadata": {},
     "output_type": "execute_result"
    }
   ],
   "source": [
    "df.duplicated().sum()"
   ]
  },
  {
   "cell_type": "markdown",
   "id": "d0c8a0f4",
   "metadata": {},
   "source": [
    "## 2. data cleaning"
   ]
  },
  {
   "cell_type": "code",
   "execution_count": 9,
   "id": "797d892e",
   "metadata": {},
   "outputs": [
    {
     "data": {
      "text/html": [
       "<div>\n",
       "<style scoped>\n",
       "    .dataframe tbody tr th:only-of-type {\n",
       "        vertical-align: middle;\n",
       "    }\n",
       "\n",
       "    .dataframe tbody tr th {\n",
       "        vertical-align: top;\n",
       "    }\n",
       "\n",
       "    .dataframe thead th {\n",
       "        text-align: right;\n",
       "    }\n",
       "</style>\n",
       "<table border=\"1\" class=\"dataframe\">\n",
       "  <thead>\n",
       "    <tr style=\"text-align: right;\">\n",
       "      <th></th>\n",
       "      <th>Artificial object</th>\n",
       "      <th>Country</th>\n",
       "      <th>Year</th>\n",
       "      <th>Mass (lb)</th>\n",
       "      <th>Mass (kg)</th>\n",
       "      <th>Status</th>\n",
       "      <th>Location</th>\n",
       "    </tr>\n",
       "  </thead>\n",
       "  <tbody>\n",
       "    <tr>\n",
       "      <th>48</th>\n",
       "      <td>Luna 20 descent stage[d]</td>\n",
       "      <td>Soviet Union</td>\n",
       "      <td>1972</td>\n",
       "      <td>&lt;12,626</td>\n",
       "      <td>&lt;5,727</td>\n",
       "      <td>Landed</td>\n",
       "      <td>3°34′N 56°30′E﻿ / ﻿3.57°N 56.5°E</td>\n",
       "    </tr>\n",
       "    <tr>\n",
       "      <th>62</th>\n",
       "      <td>Luna 24 descent stage[d]</td>\n",
       "      <td>Soviet Union</td>\n",
       "      <td>1976</td>\n",
       "      <td>&lt;12,787</td>\n",
       "      <td>&lt;5,800</td>\n",
       "      <td>Landed</td>\n",
       "      <td>12°45′N 62°12′E﻿ / ﻿12.75°N 62.20°E</td>\n",
       "    </tr>\n",
       "    <tr>\n",
       "      <th>70</th>\n",
       "      <td>SELENE (Kaguya) main orbiter</td>\n",
       "      <td>Japan</td>\n",
       "      <td>2009</td>\n",
       "      <td>4374</td>\n",
       "      <td>1,984[76]</td>\n",
       "      <td>Intentionally crashed</td>\n",
       "      <td>65°30′S 80°30′E﻿ / ﻿65.5°S 80.5°E</td>\n",
       "    </tr>\n",
       "    <tr>\n",
       "      <th>80</th>\n",
       "      <td>Chang'e 5 descent stage</td>\n",
       "      <td>China</td>\n",
       "      <td>2020</td>\n",
       "      <td>&lt;18,077</td>\n",
       "      <td>&lt;8,200</td>\n",
       "      <td>Operational</td>\n",
       "      <td>43°05′56″N 51°50′13″W﻿ / ﻿43.099°N 51.837°W</td>\n",
       "    </tr>\n",
       "    <tr>\n",
       "      <th>81</th>\n",
       "      <td>Chang'e 5 ascent stage</td>\n",
       "      <td>China</td>\n",
       "      <td>2020</td>\n",
       "      <td>&gt;400</td>\n",
       "      <td>&gt;882</td>\n",
       "      <td>Intentionally crashed</td>\n",
       "      <td>30°00′00″S 0°00′00″E﻿ / ﻿30.000°S 0.000°E</td>\n",
       "    </tr>\n",
       "  </tbody>\n",
       "</table>\n",
       "</div>"
      ],
      "text/plain": [
       "               Artificial object       Country  Year Mass (lb)  Mass (kg)  \\\n",
       "48      Luna 20 descent stage[d]  Soviet Union  1972   <12,626     <5,727   \n",
       "62      Luna 24 descent stage[d]  Soviet Union  1976   <12,787     <5,800   \n",
       "70  SELENE (Kaguya) main orbiter         Japan  2009      4374  1,984[76]   \n",
       "80       Chang'e 5 descent stage         China  2020   <18,077     <8,200   \n",
       "81        Chang'e 5 ascent stage         China  2020      >400       >882   \n",
       "\n",
       "                   Status                                     Location  \n",
       "48                 Landed             3°34′N 56°30′E﻿ / ﻿3.57°N 56.5°E  \n",
       "62                 Landed          12°45′N 62°12′E﻿ / ﻿12.75°N 62.20°E  \n",
       "70  Intentionally crashed            65°30′S 80°30′E﻿ / ﻿65.5°S 80.5°E  \n",
       "80            Operational  43°05′56″N 51°50′13″W﻿ / ﻿43.099°N 51.837°W  \n",
       "81  Intentionally crashed    30°00′00″S 0°00′00″E﻿ / ﻿30.000°S 0.000°E  "
      ]
     },
     "execution_count": 9,
     "metadata": {},
     "output_type": "execute_result"
    }
   ],
   "source": [
    "# dalam project ini kita akan menggunakan data berat dengan satuan kg\n",
    "# ada beberapa object yang beratnya tidak diketahui persis\n",
    "df[~df['Mass (kg)'].str.isnumeric()]"
   ]
  },
  {
   "cell_type": "code",
   "execution_count": 10,
   "id": "125dfa32",
   "metadata": {},
   "outputs": [],
   "source": [
    "# simpan id data yang beratnya bermasalah, untuk perbandingan setelah perbaikan\n",
    "non_numeric_mass_id = df[~df['Mass (kg)'].str.isnumeric()].index"
   ]
  },
  {
   "cell_type": "code",
   "execution_count": 11,
   "id": "3c298d89",
   "metadata": {},
   "outputs": [
    {
     "name": "stderr",
     "output_type": "stream",
     "text": [
      "/Users/zain/opt/anaconda3/lib/python3.7/site-packages/ipykernel_launcher.py:5: SettingWithCopyWarning: \n",
      "A value is trying to be set on a copy of a slice from a DataFrame.\n",
      "Try using .loc[row_indexer,col_indexer] = value instead\n",
      "\n",
      "See the caveats in the documentation: https://pandas.pydata.org/pandas-docs/stable/user_guide/indexing.html#returning-a-view-versus-a-copy\n",
      "  \"\"\"\n"
     ]
    }
   ],
   "source": [
    "# karena datanya sedikit dan ini masih merupakan project latihan\n",
    "# - data yang beratnya berupa perkiraan (< atau >), kita gunakan berat perkiraannya\n",
    "# - data pada id 70, jika konversi lb ke kg, maka data yang benar data yang diluar kurung\n",
    "\n",
    "df['Mass (kg)'] = df['Mass (kg)'].str.replace('<|>|,|\\[76\\]', '', regex=True)"
   ]
  },
  {
   "cell_type": "code",
   "execution_count": 12,
   "id": "ca960943",
   "metadata": {},
   "outputs": [
    {
     "data": {
      "text/html": [
       "<div>\n",
       "<style scoped>\n",
       "    .dataframe tbody tr th:only-of-type {\n",
       "        vertical-align: middle;\n",
       "    }\n",
       "\n",
       "    .dataframe tbody tr th {\n",
       "        vertical-align: top;\n",
       "    }\n",
       "\n",
       "    .dataframe thead th {\n",
       "        text-align: right;\n",
       "    }\n",
       "</style>\n",
       "<table border=\"1\" class=\"dataframe\">\n",
       "  <thead>\n",
       "    <tr style=\"text-align: right;\">\n",
       "      <th></th>\n",
       "      <th>Artificial object</th>\n",
       "      <th>Country</th>\n",
       "      <th>Year</th>\n",
       "      <th>Mass (lb)</th>\n",
       "      <th>Mass (kg)</th>\n",
       "      <th>Status</th>\n",
       "      <th>Location</th>\n",
       "    </tr>\n",
       "  </thead>\n",
       "  <tbody>\n",
       "    <tr>\n",
       "      <th>48</th>\n",
       "      <td>Luna 20 descent stage[d]</td>\n",
       "      <td>Soviet Union</td>\n",
       "      <td>1972</td>\n",
       "      <td>&lt;12,626</td>\n",
       "      <td>5727</td>\n",
       "      <td>Landed</td>\n",
       "      <td>3°34′N 56°30′E﻿ / ﻿3.57°N 56.5°E</td>\n",
       "    </tr>\n",
       "    <tr>\n",
       "      <th>62</th>\n",
       "      <td>Luna 24 descent stage[d]</td>\n",
       "      <td>Soviet Union</td>\n",
       "      <td>1976</td>\n",
       "      <td>&lt;12,787</td>\n",
       "      <td>5800</td>\n",
       "      <td>Landed</td>\n",
       "      <td>12°45′N 62°12′E﻿ / ﻿12.75°N 62.20°E</td>\n",
       "    </tr>\n",
       "    <tr>\n",
       "      <th>70</th>\n",
       "      <td>SELENE (Kaguya) main orbiter</td>\n",
       "      <td>Japan</td>\n",
       "      <td>2009</td>\n",
       "      <td>4374</td>\n",
       "      <td>1984</td>\n",
       "      <td>Intentionally crashed</td>\n",
       "      <td>65°30′S 80°30′E﻿ / ﻿65.5°S 80.5°E</td>\n",
       "    </tr>\n",
       "    <tr>\n",
       "      <th>80</th>\n",
       "      <td>Chang'e 5 descent stage</td>\n",
       "      <td>China</td>\n",
       "      <td>2020</td>\n",
       "      <td>&lt;18,077</td>\n",
       "      <td>8200</td>\n",
       "      <td>Operational</td>\n",
       "      <td>43°05′56″N 51°50′13″W﻿ / ﻿43.099°N 51.837°W</td>\n",
       "    </tr>\n",
       "    <tr>\n",
       "      <th>81</th>\n",
       "      <td>Chang'e 5 ascent stage</td>\n",
       "      <td>China</td>\n",
       "      <td>2020</td>\n",
       "      <td>&gt;400</td>\n",
       "      <td>882</td>\n",
       "      <td>Intentionally crashed</td>\n",
       "      <td>30°00′00″S 0°00′00″E﻿ / ﻿30.000°S 0.000°E</td>\n",
       "    </tr>\n",
       "  </tbody>\n",
       "</table>\n",
       "</div>"
      ],
      "text/plain": [
       "               Artificial object       Country  Year Mass (lb) Mass (kg)  \\\n",
       "48      Luna 20 descent stage[d]  Soviet Union  1972   <12,626      5727   \n",
       "62      Luna 24 descent stage[d]  Soviet Union  1976   <12,787      5800   \n",
       "70  SELENE (Kaguya) main orbiter         Japan  2009      4374      1984   \n",
       "80       Chang'e 5 descent stage         China  2020   <18,077      8200   \n",
       "81        Chang'e 5 ascent stage         China  2020      >400       882   \n",
       "\n",
       "                   Status                                     Location  \n",
       "48                 Landed             3°34′N 56°30′E﻿ / ﻿3.57°N 56.5°E  \n",
       "62                 Landed          12°45′N 62°12′E﻿ / ﻿12.75°N 62.20°E  \n",
       "70  Intentionally crashed            65°30′S 80°30′E﻿ / ﻿65.5°S 80.5°E  \n",
       "80            Operational  43°05′56″N 51°50′13″W﻿ / ﻿43.099°N 51.837°W  \n",
       "81  Intentionally crashed    30°00′00″S 0°00′00″E﻿ / ﻿30.000°S 0.000°E  "
      ]
     },
     "execution_count": 12,
     "metadata": {},
     "output_type": "execute_result"
    }
   ],
   "source": [
    "df.loc[non_numeric_mass_id]"
   ]
  },
  {
   "cell_type": "markdown",
   "id": "40137936",
   "metadata": {},
   "source": [
    "### perbaikan tipe data"
   ]
  },
  {
   "cell_type": "code",
   "execution_count": 13,
   "id": "562d5a5e",
   "metadata": {},
   "outputs": [
    {
     "data": {
      "text/plain": [
       "Artificial object    object\n",
       "Country              object\n",
       "Year                 object\n",
       "Mass (lb)            object\n",
       "Mass (kg)            object\n",
       "Status               object\n",
       "Location             object\n",
       "dtype: object"
      ]
     },
     "execution_count": 13,
     "metadata": {},
     "output_type": "execute_result"
    }
   ],
   "source": [
    "df.dtypes"
   ]
  },
  {
   "cell_type": "code",
   "execution_count": 14,
   "id": "ae75ac40",
   "metadata": {},
   "outputs": [
    {
     "name": "stderr",
     "output_type": "stream",
     "text": [
      "/Users/zain/opt/anaconda3/lib/python3.7/site-packages/ipykernel_launcher.py:2: SettingWithCopyWarning: \n",
      "A value is trying to be set on a copy of a slice from a DataFrame.\n",
      "Try using .loc[row_indexer,col_indexer] = value instead\n",
      "\n",
      "See the caveats in the documentation: https://pandas.pydata.org/pandas-docs/stable/user_guide/indexing.html#returning-a-view-versus-a-copy\n",
      "  \n"
     ]
    }
   ],
   "source": [
    "# ubah tipe data column 'Mass (kg)' menjadi int\n",
    "df['Mass (kg)'] = df['Mass (kg)'].astype(int)"
   ]
  },
  {
   "cell_type": "code",
   "execution_count": 15,
   "id": "989253f6",
   "metadata": {},
   "outputs": [
    {
     "data": {
      "text/plain": [
       "Artificial object    object\n",
       "Country              object\n",
       "Year                 object\n",
       "Mass (lb)            object\n",
       "Mass (kg)             int64\n",
       "Status               object\n",
       "Location             object\n",
       "dtype: object"
      ]
     },
     "execution_count": 15,
     "metadata": {},
     "output_type": "execute_result"
    }
   ],
   "source": [
    "df.dtypes"
   ]
  },
  {
   "cell_type": "markdown",
   "id": "36088858",
   "metadata": {},
   "source": [
    "## 3. exploratory data analysis"
   ]
  },
  {
   "cell_type": "code",
   "execution_count": 16,
   "id": "914b2d62",
   "metadata": {},
   "outputs": [
    {
     "data": {
      "text/plain": [
       "United States            47\n",
       "Soviet Union             21\n",
       "China                     7\n",
       "Japan                     5\n",
       "India                     3\n",
       "European Space Agency     1\n",
       "Israel                    1\n",
       "Luxembourg                1\n",
       "United Arab Emirates      1\n",
       "Russia                    1\n",
       "Name: Country, dtype: int64"
      ]
     },
     "execution_count": 16,
     "metadata": {},
     "output_type": "execute_result"
    }
   ],
   "source": [
    "df['Country'].value_counts()"
   ]
  },
  {
   "cell_type": "code",
   "execution_count": 17,
   "id": "f7f17cbd",
   "metadata": {},
   "outputs": [
    {
     "data": {
      "text/plain": [
       "<AxesSubplot:>"
      ]
     },
     "execution_count": 17,
     "metadata": {},
     "output_type": "execute_result"
    },
    {
     "data": {
      "image/png": "[encoded data removed]",
      "text/plain": [
       "<Figure size 1300x500 with 1 Axes>"
      ]
     },
     "metadata": {},
     "output_type": "display_data"
    }
   ],
   "source": [
    "df['Year'].value_counts().sort_index().plot(figsize=(13, 5))"
   ]
  },
  {
   "cell_type": "code",
   "execution_count": 18,
   "id": "bdd90e4c",
   "metadata": {},
   "outputs": [
    {
     "data": {
      "text/plain": [
       "<AxesSubplot:>"
      ]
     },
     "execution_count": 18,
     "metadata": {},
     "output_type": "execute_result"
    },
    {
     "data": {
      "image/png": "[encoded data removed]",
      "text/plain": [
       "<Figure size 1300x500 with 1 Axes>"
      ]
     },
     "metadata": {},
     "output_type": "display_data"
    }
   ],
   "source": [
    "df['Mass (kg)'].plot(figsize=(13, 5))"
   ]
  },
  {
   "cell_type": "code",
   "execution_count": 19,
   "id": "41da061c",
   "metadata": {},
   "outputs": [
    {
     "data": {
      "text/plain": [
       "Intentionally crashed            22\n",
       "Landed                           21\n",
       "Crashed                          18\n",
       "Crashed (post-mission)           15\n",
       "Operational                       3\n",
       "Landed[b]                         1\n",
       "Crashed (post mission)            1\n",
       "Likely Crashed (post-mission)     1\n",
       "Crashed into moon or in Orbit     1\n",
       "Crashed (not confirmed)           1\n",
       "Landed[87]                        1\n",
       "Crashed[92][93]                   1\n",
       "Intentionally crashed[94]         1\n",
       "Crashed[96]                       1\n",
       "Name: Status, dtype: int64"
      ]
     },
     "execution_count": 19,
     "metadata": {},
     "output_type": "execute_result"
    }
   ],
   "source": [
    "df['Status'].value_counts()"
   ]
  },
  {
   "cell_type": "markdown",
   "id": "e3532098",
   "metadata": {},
   "source": [
    "## 4. data engineering"
   ]
  },
  {
   "cell_type": "code",
   "execution_count": 20,
   "id": "4f657faa",
   "metadata": {},
   "outputs": [
    {
     "name": "stderr",
     "output_type": "stream",
     "text": [
      "/Users/zain/opt/anaconda3/lib/python3.7/site-packages/ipykernel_launcher.py:19: SettingWithCopyWarning: \n",
      "A value is trying to be set on a copy of a slice from a DataFrame.\n",
      "Try using .loc[row_indexer,col_indexer] = value instead\n",
      "\n",
      "See the caveats in the documentation: https://pandas.pydata.org/pandas-docs/stable/user_guide/indexing.html#returning-a-view-versus-a-copy\n"
     ]
    }
   ],
   "source": [
    "# karena rusia adalah penerus terbesar dari uni soviet dalam hal program antariksa\n",
    "# maka kita akan menggabungkan 'Soviet Union' dan 'Russia'\n",
    "# sedangkan sisa negara yang hanya meluncurkan 1 object, akan digabung menjadi 'other'\n",
    "\n",
    "def country_mapping(country):\n",
    "    if country == 'Soviet Union':\n",
    "        return 'russia'\n",
    "    elif country == 'European Space Agency':\n",
    "        return 'other'\n",
    "    elif country == 'Israel':\n",
    "        return 'other'\n",
    "    elif country == 'Luxembourg':\n",
    "        return 'other'\n",
    "    elif country == 'United Arab Emirates':\n",
    "        return 'other'\n",
    "    else:\n",
    "        return country.lower()\n",
    "    \n",
    "df['Country'] = df['Country'].apply(lambda x: country_mapping(x))"
   ]
  },
  {
   "cell_type": "code",
   "execution_count": 21,
   "id": "daa9c4bc",
   "metadata": {},
   "outputs": [
    {
     "data": {
      "text/html": [
       "<div>\n",
       "<style scoped>\n",
       "    .dataframe tbody tr th:only-of-type {\n",
       "        vertical-align: middle;\n",
       "    }\n",
       "\n",
       "    .dataframe tbody tr th {\n",
       "        vertical-align: top;\n",
       "    }\n",
       "\n",
       "    .dataframe thead th {\n",
       "        text-align: right;\n",
       "    }\n",
       "</style>\n",
       "<table border=\"1\" class=\"dataframe\">\n",
       "  <thead>\n",
       "    <tr style=\"text-align: right;\">\n",
       "      <th></th>\n",
       "      <th>Artificial object</th>\n",
       "      <th>Country</th>\n",
       "      <th>Year</th>\n",
       "      <th>Mass (lb)</th>\n",
       "      <th>Mass (kg)</th>\n",
       "      <th>Status</th>\n",
       "      <th>Location</th>\n",
       "    </tr>\n",
       "  </thead>\n",
       "  <tbody>\n",
       "    <tr>\n",
       "      <th>0</th>\n",
       "      <td>Luna 2</td>\n",
       "      <td>russia</td>\n",
       "      <td>1959</td>\n",
       "      <td>860</td>\n",
       "      <td>390</td>\n",
       "      <td>Intentionally crashed</td>\n",
       "      <td>29°06′N 0°00′E﻿ / ﻿29.1°N 0°E</td>\n",
       "    </tr>\n",
       "    <tr>\n",
       "      <th>1</th>\n",
       "      <td>Luna 2 Third stage of Vostok rocket</td>\n",
       "      <td>russia</td>\n",
       "      <td>1959</td>\n",
       "      <td>20100</td>\n",
       "      <td>9100</td>\n",
       "      <td>Intentionally crashed</td>\n",
       "      <td>29°06′N 0°00′E﻿ / ﻿29.1°N 0°E</td>\n",
       "    </tr>\n",
       "    <tr>\n",
       "      <th>2</th>\n",
       "      <td>Ranger 4</td>\n",
       "      <td>united states</td>\n",
       "      <td>1962</td>\n",
       "      <td>730</td>\n",
       "      <td>331</td>\n",
       "      <td>Intentionally crashed</td>\n",
       "      <td>15°30′S 130°42′W﻿ / ﻿15.5°S 130.7°W</td>\n",
       "    </tr>\n",
       "    <tr>\n",
       "      <th>3</th>\n",
       "      <td>Ranger 6</td>\n",
       "      <td>united states</td>\n",
       "      <td>1964</td>\n",
       "      <td>840</td>\n",
       "      <td>381</td>\n",
       "      <td>Intentionally crashed</td>\n",
       "      <td>9°21′29″N 21°28′48″E﻿ / ﻿9.358°N 21.480°E</td>\n",
       "    </tr>\n",
       "    <tr>\n",
       "      <th>4</th>\n",
       "      <td>Ranger 7</td>\n",
       "      <td>united states</td>\n",
       "      <td>1964</td>\n",
       "      <td>805</td>\n",
       "      <td>365</td>\n",
       "      <td>Intentionally crashed</td>\n",
       "      <td>10°38′S 20°36′W﻿ / ﻿10.63°S 20.60°W</td>\n",
       "    </tr>\n",
       "  </tbody>\n",
       "</table>\n",
       "</div>"
      ],
      "text/plain": [
       "                     Artificial object        Country  Year Mass (lb)  \\\n",
       "0                               Luna 2         russia  1959       860   \n",
       "1  Luna 2 Third stage of Vostok rocket         russia  1959     20100   \n",
       "2                             Ranger 4  united states  1962       730   \n",
       "3                             Ranger 6  united states  1964       840   \n",
       "4                             Ranger 7  united states  1964       805   \n",
       "\n",
       "   Mass (kg)                 Status                                   Location  \n",
       "0        390  Intentionally crashed              29°06′N 0°00′E﻿ / ﻿29.1°N 0°E  \n",
       "1       9100  Intentionally crashed              29°06′N 0°00′E﻿ / ﻿29.1°N 0°E  \n",
       "2        331  Intentionally crashed        15°30′S 130°42′W﻿ / ﻿15.5°S 130.7°W  \n",
       "3        381  Intentionally crashed  9°21′29″N 21°28′48″E﻿ / ﻿9.358°N 21.480°E  \n",
       "4        365  Intentionally crashed        10°38′S 20°36′W﻿ / ﻿10.63°S 20.60°W  "
      ]
     },
     "execution_count": 21,
     "metadata": {},
     "output_type": "execute_result"
    }
   ],
   "source": [
    "df.head()"
   ]
  },
  {
   "cell_type": "code",
   "execution_count": 22,
   "id": "eb9a4909",
   "metadata": {},
   "outputs": [
    {
     "name": "stderr",
     "output_type": "stream",
     "text": [
      "/Users/zain/opt/anaconda3/lib/python3.7/site-packages/ipykernel_launcher.py:2: SettingWithCopyWarning: \n",
      "A value is trying to be set on a copy of a slice from a DataFrame.\n",
      "Try using .loc[row_indexer,col_indexer] = value instead\n",
      "\n",
      "See the caveats in the documentation: https://pandas.pydata.org/pandas-docs/stable/user_guide/indexing.html#returning-a-view-versus-a-copy\n",
      "  \n"
     ]
    }
   ],
   "source": [
    "# mengelompokkan setiap 10 tahun dan menjadikan decade petama = 0\n",
    "df['Decade'] = df.Year.apply(lambda x: int(x) // 10 - 195)"
   ]
  },
  {
   "cell_type": "code",
   "execution_count": 23,
   "id": "04455643",
   "metadata": {},
   "outputs": [
    {
     "data": {
      "text/html": [
       "<div>\n",
       "<style scoped>\n",
       "    .dataframe tbody tr th:only-of-type {\n",
       "        vertical-align: middle;\n",
       "    }\n",
       "\n",
       "    .dataframe tbody tr th {\n",
       "        vertical-align: top;\n",
       "    }\n",
       "\n",
       "    .dataframe thead th {\n",
       "        text-align: right;\n",
       "    }\n",
       "</style>\n",
       "<table border=\"1\" class=\"dataframe\">\n",
       "  <thead>\n",
       "    <tr style=\"text-align: right;\">\n",
       "      <th></th>\n",
       "      <th>Artificial object</th>\n",
       "      <th>Country</th>\n",
       "      <th>Year</th>\n",
       "      <th>Mass (lb)</th>\n",
       "      <th>Mass (kg)</th>\n",
       "      <th>Status</th>\n",
       "      <th>Location</th>\n",
       "      <th>Decade</th>\n",
       "    </tr>\n",
       "  </thead>\n",
       "  <tbody>\n",
       "    <tr>\n",
       "      <th>0</th>\n",
       "      <td>Luna 2</td>\n",
       "      <td>russia</td>\n",
       "      <td>1959</td>\n",
       "      <td>860</td>\n",
       "      <td>390</td>\n",
       "      <td>Intentionally crashed</td>\n",
       "      <td>29°06′N 0°00′E﻿ / ﻿29.1°N 0°E</td>\n",
       "      <td>0</td>\n",
       "    </tr>\n",
       "    <tr>\n",
       "      <th>1</th>\n",
       "      <td>Luna 2 Third stage of Vostok rocket</td>\n",
       "      <td>russia</td>\n",
       "      <td>1959</td>\n",
       "      <td>20100</td>\n",
       "      <td>9100</td>\n",
       "      <td>Intentionally crashed</td>\n",
       "      <td>29°06′N 0°00′E﻿ / ﻿29.1°N 0°E</td>\n",
       "      <td>0</td>\n",
       "    </tr>\n",
       "    <tr>\n",
       "      <th>2</th>\n",
       "      <td>Ranger 4</td>\n",
       "      <td>united states</td>\n",
       "      <td>1962</td>\n",
       "      <td>730</td>\n",
       "      <td>331</td>\n",
       "      <td>Intentionally crashed</td>\n",
       "      <td>15°30′S 130°42′W﻿ / ﻿15.5°S 130.7°W</td>\n",
       "      <td>1</td>\n",
       "    </tr>\n",
       "    <tr>\n",
       "      <th>3</th>\n",
       "      <td>Ranger 6</td>\n",
       "      <td>united states</td>\n",
       "      <td>1964</td>\n",
       "      <td>840</td>\n",
       "      <td>381</td>\n",
       "      <td>Intentionally crashed</td>\n",
       "      <td>9°21′29″N 21°28′48″E﻿ / ﻿9.358°N 21.480°E</td>\n",
       "      <td>1</td>\n",
       "    </tr>\n",
       "    <tr>\n",
       "      <th>4</th>\n",
       "      <td>Ranger 7</td>\n",
       "      <td>united states</td>\n",
       "      <td>1964</td>\n",
       "      <td>805</td>\n",
       "      <td>365</td>\n",
       "      <td>Intentionally crashed</td>\n",
       "      <td>10°38′S 20°36′W﻿ / ﻿10.63°S 20.60°W</td>\n",
       "      <td>1</td>\n",
       "    </tr>\n",
       "  </tbody>\n",
       "</table>\n",
       "</div>"
      ],
      "text/plain": [
       "                     Artificial object        Country  Year Mass (lb)  \\\n",
       "0                               Luna 2         russia  1959       860   \n",
       "1  Luna 2 Third stage of Vostok rocket         russia  1959     20100   \n",
       "2                             Ranger 4  united states  1962       730   \n",
       "3                             Ranger 6  united states  1964       840   \n",
       "4                             Ranger 7  united states  1964       805   \n",
       "\n",
       "   Mass (kg)                 Status  \\\n",
       "0        390  Intentionally crashed   \n",
       "1       9100  Intentionally crashed   \n",
       "2        331  Intentionally crashed   \n",
       "3        381  Intentionally crashed   \n",
       "4        365  Intentionally crashed   \n",
       "\n",
       "                                    Location  Decade  \n",
       "0              29°06′N 0°00′E﻿ / ﻿29.1°N 0°E       0  \n",
       "1              29°06′N 0°00′E﻿ / ﻿29.1°N 0°E       0  \n",
       "2        15°30′S 130°42′W﻿ / ﻿15.5°S 130.7°W       1  \n",
       "3  9°21′29″N 21°28′48″E﻿ / ﻿9.358°N 21.480°E       1  \n",
       "4        10°38′S 20°36′W﻿ / ﻿10.63°S 20.60°W       1  "
      ]
     },
     "execution_count": 23,
     "metadata": {},
     "output_type": "execute_result"
    }
   ],
   "source": [
    "df.head()"
   ]
  },
  {
   "cell_type": "code",
   "execution_count": 24,
   "id": "192b2120",
   "metadata": {},
   "outputs": [
    {
     "name": "stderr",
     "output_type": "stream",
     "text": [
      "/Users/zain/opt/anaconda3/lib/python3.7/site-packages/ipykernel_launcher.py:2: SettingWithCopyWarning: \n",
      "A value is trying to be set on a copy of a slice from a DataFrame.\n",
      "Try using .loc[row_indexer,col_indexer] = value instead\n",
      "\n",
      "See the caveats in the documentation: https://pandas.pydata.org/pandas-docs/stable/user_guide/indexing.html#returning-a-view-versus-a-copy\n",
      "  \n"
     ]
    }
   ],
   "source": [
    "# membuat data 'survival' berdasarkan data 'status'\n",
    "df['Survival'] = df['Status'].apply(lambda x: 1-int('crashed' in str(x).lower()))"
   ]
  },
  {
   "cell_type": "code",
   "execution_count": 25,
   "id": "3474773b",
   "metadata": {
    "scrolled": true
   },
   "outputs": [
    {
     "data": {
      "text/html": [
       "<div>\n",
       "<style scoped>\n",
       "    .dataframe tbody tr th:only-of-type {\n",
       "        vertical-align: middle;\n",
       "    }\n",
       "\n",
       "    .dataframe tbody tr th {\n",
       "        vertical-align: top;\n",
       "    }\n",
       "\n",
       "    .dataframe thead th {\n",
       "        text-align: right;\n",
       "    }\n",
       "</style>\n",
       "<table border=\"1\" class=\"dataframe\">\n",
       "  <thead>\n",
       "    <tr style=\"text-align: right;\">\n",
       "      <th></th>\n",
       "      <th>Artificial object</th>\n",
       "      <th>Country</th>\n",
       "      <th>Year</th>\n",
       "      <th>Mass (lb)</th>\n",
       "      <th>Mass (kg)</th>\n",
       "      <th>Status</th>\n",
       "      <th>Location</th>\n",
       "      <th>Decade</th>\n",
       "      <th>Survival</th>\n",
       "    </tr>\n",
       "  </thead>\n",
       "  <tbody>\n",
       "    <tr>\n",
       "      <th>0</th>\n",
       "      <td>Luna 2</td>\n",
       "      <td>russia</td>\n",
       "      <td>1959</td>\n",
       "      <td>860</td>\n",
       "      <td>390</td>\n",
       "      <td>Intentionally crashed</td>\n",
       "      <td>29°06′N 0°00′E﻿ / ﻿29.1°N 0°E</td>\n",
       "      <td>0</td>\n",
       "      <td>0</td>\n",
       "    </tr>\n",
       "    <tr>\n",
       "      <th>1</th>\n",
       "      <td>Luna 2 Third stage of Vostok rocket</td>\n",
       "      <td>russia</td>\n",
       "      <td>1959</td>\n",
       "      <td>20100</td>\n",
       "      <td>9100</td>\n",
       "      <td>Intentionally crashed</td>\n",
       "      <td>29°06′N 0°00′E﻿ / ﻿29.1°N 0°E</td>\n",
       "      <td>0</td>\n",
       "      <td>0</td>\n",
       "    </tr>\n",
       "    <tr>\n",
       "      <th>2</th>\n",
       "      <td>Ranger 4</td>\n",
       "      <td>united states</td>\n",
       "      <td>1962</td>\n",
       "      <td>730</td>\n",
       "      <td>331</td>\n",
       "      <td>Intentionally crashed</td>\n",
       "      <td>15°30′S 130°42′W﻿ / ﻿15.5°S 130.7°W</td>\n",
       "      <td>1</td>\n",
       "      <td>0</td>\n",
       "    </tr>\n",
       "    <tr>\n",
       "      <th>3</th>\n",
       "      <td>Ranger 6</td>\n",
       "      <td>united states</td>\n",
       "      <td>1964</td>\n",
       "      <td>840</td>\n",
       "      <td>381</td>\n",
       "      <td>Intentionally crashed</td>\n",
       "      <td>9°21′29″N 21°28′48″E﻿ / ﻿9.358°N 21.480°E</td>\n",
       "      <td>1</td>\n",
       "      <td>0</td>\n",
       "    </tr>\n",
       "    <tr>\n",
       "      <th>4</th>\n",
       "      <td>Ranger 7</td>\n",
       "      <td>united states</td>\n",
       "      <td>1964</td>\n",
       "      <td>805</td>\n",
       "      <td>365</td>\n",
       "      <td>Intentionally crashed</td>\n",
       "      <td>10°38′S 20°36′W﻿ / ﻿10.63°S 20.60°W</td>\n",
       "      <td>1</td>\n",
       "      <td>0</td>\n",
       "    </tr>\n",
       "  </tbody>\n",
       "</table>\n",
       "</div>"
      ],
      "text/plain": [
       "                     Artificial object        Country  Year Mass (lb)  \\\n",
       "0                               Luna 2         russia  1959       860   \n",
       "1  Luna 2 Third stage of Vostok rocket         russia  1959     20100   \n",
       "2                             Ranger 4  united states  1962       730   \n",
       "3                             Ranger 6  united states  1964       840   \n",
       "4                             Ranger 7  united states  1964       805   \n",
       "\n",
       "   Mass (kg)                 Status  \\\n",
       "0        390  Intentionally crashed   \n",
       "1       9100  Intentionally crashed   \n",
       "2        331  Intentionally crashed   \n",
       "3        381  Intentionally crashed   \n",
       "4        365  Intentionally crashed   \n",
       "\n",
       "                                    Location  Decade  Survival  \n",
       "0              29°06′N 0°00′E﻿ / ﻿29.1°N 0°E       0         0  \n",
       "1              29°06′N 0°00′E﻿ / ﻿29.1°N 0°E       0         0  \n",
       "2        15°30′S 130°42′W﻿ / ﻿15.5°S 130.7°W       1         0  \n",
       "3  9°21′29″N 21°28′48″E﻿ / ﻿9.358°N 21.480°E       1         0  \n",
       "4        10°38′S 20°36′W﻿ / ﻿10.63°S 20.60°W       1         0  "
      ]
     },
     "execution_count": 25,
     "metadata": {},
     "output_type": "execute_result"
    }
   ],
   "source": [
    "df.head()"
   ]
  },
  {
   "cell_type": "code",
   "execution_count": 26,
   "id": "35ec68d3",
   "metadata": {},
   "outputs": [
    {
     "data": {
      "text/html": [
       "<div>\n",
       "<style scoped>\n",
       "    .dataframe tbody tr th:only-of-type {\n",
       "        vertical-align: middle;\n",
       "    }\n",
       "\n",
       "    .dataframe tbody tr th {\n",
       "        vertical-align: top;\n",
       "    }\n",
       "\n",
       "    .dataframe thead tr th {\n",
       "        text-align: left;\n",
       "    }\n",
       "\n",
       "    .dataframe thead tr:last-of-type th {\n",
       "        text-align: right;\n",
       "    }\n",
       "</style>\n",
       "<table border=\"1\" class=\"dataframe\">\n",
       "  <thead>\n",
       "    <tr>\n",
       "      <th></th>\n",
       "      <th colspan=\"2\" halign=\"left\">Artificial object</th>\n",
       "    </tr>\n",
       "    <tr>\n",
       "      <th>Survival</th>\n",
       "      <th>0</th>\n",
       "      <th>1</th>\n",
       "    </tr>\n",
       "    <tr>\n",
       "      <th>Country</th>\n",
       "      <th></th>\n",
       "      <th></th>\n",
       "    </tr>\n",
       "  </thead>\n",
       "  <tbody>\n",
       "    <tr>\n",
       "      <th>china</th>\n",
       "      <td>4.0</td>\n",
       "      <td>3.0</td>\n",
       "    </tr>\n",
       "    <tr>\n",
       "      <th>india</th>\n",
       "      <td>2.0</td>\n",
       "      <td>1.0</td>\n",
       "    </tr>\n",
       "    <tr>\n",
       "      <th>japan</th>\n",
       "      <td>5.0</td>\n",
       "      <td>NaN</td>\n",
       "    </tr>\n",
       "    <tr>\n",
       "      <th>other</th>\n",
       "      <td>4.0</td>\n",
       "      <td>NaN</td>\n",
       "    </tr>\n",
       "    <tr>\n",
       "      <th>russia</th>\n",
       "      <td>14.0</td>\n",
       "      <td>8.0</td>\n",
       "    </tr>\n",
       "    <tr>\n",
       "      <th>united states</th>\n",
       "      <td>33.0</td>\n",
       "      <td>14.0</td>\n",
       "    </tr>\n",
       "  </tbody>\n",
       "</table>\n",
       "</div>"
      ],
      "text/plain": [
       "              Artificial object      \n",
       "Survival                      0     1\n",
       "Country                              \n",
       "china                       4.0   3.0\n",
       "india                       2.0   1.0\n",
       "japan                       5.0   NaN\n",
       "other                       4.0   NaN\n",
       "russia                     14.0   8.0\n",
       "united states              33.0  14.0"
      ]
     },
     "execution_count": 26,
     "metadata": {},
     "output_type": "execute_result"
    }
   ],
   "source": [
    "county_suvival = df.groupby(['Country', 'Survival'])[['Artificial object']].count().unstack()\n",
    "county_suvival"
   ]
  },
  {
   "cell_type": "code",
   "execution_count": 27,
   "id": "fa0bd6a1",
   "metadata": {},
   "outputs": [
    {
     "data": {
      "text/plain": [
       "<AxesSubplot:xlabel='Country'>"
      ]
     },
     "execution_count": 27,
     "metadata": {},
     "output_type": "execute_result"
    },
    {
     "data": {
      "image/png": "[encoded data removed]",
      "text/plain": [
       "<Figure size 1300x500 with 1 Axes>"
      ]
     },
     "metadata": {},
     "output_type": "display_data"
    }
   ],
   "source": [
    "county_suvival.plot(kind='bar', figsize=(13, 5), stacked=True)"
   ]
  },
  {
   "cell_type": "code",
   "execution_count": 28,
   "id": "c7d2250b",
   "metadata": {},
   "outputs": [
    {
     "data": {
      "text/html": [
       "<div>\n",
       "<style scoped>\n",
       "    .dataframe tbody tr th:only-of-type {\n",
       "        vertical-align: middle;\n",
       "    }\n",
       "\n",
       "    .dataframe tbody tr th {\n",
       "        vertical-align: top;\n",
       "    }\n",
       "\n",
       "    .dataframe thead tr th {\n",
       "        text-align: left;\n",
       "    }\n",
       "\n",
       "    .dataframe thead tr:last-of-type th {\n",
       "        text-align: right;\n",
       "    }\n",
       "</style>\n",
       "<table border=\"1\" class=\"dataframe\">\n",
       "  <thead>\n",
       "    <tr>\n",
       "      <th></th>\n",
       "      <th colspan=\"2\" halign=\"left\">Artificial object</th>\n",
       "    </tr>\n",
       "    <tr>\n",
       "      <th>Survival</th>\n",
       "      <th>0</th>\n",
       "      <th>1</th>\n",
       "    </tr>\n",
       "    <tr>\n",
       "      <th>Decade</th>\n",
       "      <th></th>\n",
       "      <th></th>\n",
       "    </tr>\n",
       "  </thead>\n",
       "  <tbody>\n",
       "    <tr>\n",
       "      <th>0</th>\n",
       "      <td>2.0</td>\n",
       "      <td>NaN</td>\n",
       "    </tr>\n",
       "    <tr>\n",
       "      <th>1</th>\n",
       "      <td>24.0</td>\n",
       "      <td>9.0</td>\n",
       "    </tr>\n",
       "    <tr>\n",
       "      <th>2</th>\n",
       "      <td>15.0</td>\n",
       "      <td>13.0</td>\n",
       "    </tr>\n",
       "    <tr>\n",
       "      <th>4</th>\n",
       "      <td>3.0</td>\n",
       "      <td>NaN</td>\n",
       "    </tr>\n",
       "    <tr>\n",
       "      <th>5</th>\n",
       "      <td>7.0</td>\n",
       "      <td>NaN</td>\n",
       "    </tr>\n",
       "    <tr>\n",
       "      <th>6</th>\n",
       "      <td>5.0</td>\n",
       "      <td>2.0</td>\n",
       "    </tr>\n",
       "    <tr>\n",
       "      <th>7</th>\n",
       "      <td>6.0</td>\n",
       "      <td>2.0</td>\n",
       "    </tr>\n",
       "  </tbody>\n",
       "</table>\n",
       "</div>"
      ],
      "text/plain": [
       "         Artificial object      \n",
       "Survival                 0     1\n",
       "Decade                          \n",
       "0                      2.0   NaN\n",
       "1                     24.0   9.0\n",
       "2                     15.0  13.0\n",
       "4                      3.0   NaN\n",
       "5                      7.0   NaN\n",
       "6                      5.0   2.0\n",
       "7                      6.0   2.0"
      ]
     },
     "execution_count": 28,
     "metadata": {},
     "output_type": "execute_result"
    }
   ],
   "source": [
    "decade_suvival = df.groupby(['Decade', 'Survival'])[['Artificial object']].count().sort_index().unstack()\n",
    "decade_suvival"
   ]
  },
  {
   "cell_type": "code",
   "execution_count": 29,
   "id": "e56d5f56",
   "metadata": {},
   "outputs": [
    {
     "data": {
      "text/plain": [
       "<AxesSubplot:xlabel='Decade'>"
      ]
     },
     "execution_count": 29,
     "metadata": {},
     "output_type": "execute_result"
    },
    {
     "data": {
      "image/png": "[encoded data removed]",
      "text/plain": [
       "<Figure size 1300x500 with 1 Axes>"
      ]
     },
     "metadata": {},
     "output_type": "display_data"
    }
   ],
   "source": [
    "decade_suvival.plot(kind='bar', figsize=(13, 5), stacked=True)"
   ]
  },
  {
   "cell_type": "code",
   "execution_count": 30,
   "id": "304abfc1",
   "metadata": {},
   "outputs": [
    {
     "data": {
      "text/plain": [
       "0    62\n",
       "1    26\n",
       "Name: Survival, dtype: int64"
      ]
     },
     "execution_count": 30,
     "metadata": {},
     "output_type": "execute_result"
    }
   ],
   "source": [
    "survivle = df['Survival'].value_counts()\n",
    "survivle"
   ]
  },
  {
   "cell_type": "code",
   "execution_count": 31,
   "id": "26cfde65",
   "metadata": {},
   "outputs": [
    {
     "data": {
      "text/plain": [
       "<AxesSubplot:>"
      ]
     },
     "execution_count": 31,
     "metadata": {},
     "output_type": "execute_result"
    },
    {
     "data": {
      "image/png": "[encoded data removed]",
      "text/plain": [
       "<Figure size 1300x500 with 1 Axes>"
      ]
     },
     "metadata": {},
     "output_type": "display_data"
    }
   ],
   "source": [
    "survivle.plot(kind='bar', figsize=(13, 5))"
   ]
  },
  {
   "cell_type": "markdown",
   "id": "fa574685",
   "metadata": {},
   "source": [
    "### buat fungsi load"
   ]
  },
  {
   "cell_type": "code",
   "execution_count": 32,
   "id": "2deab1c6",
   "metadata": {},
   "outputs": [],
   "source": [
    "def load_artifitial_object_data(path):\n",
    "    '''\n",
    "    function to load artifitial object data\n",
    "\n",
    "    parameters\n",
    "    ----------\n",
    "    path : str\n",
    "        path of artifitial object data (.csv)\n",
    "\n",
    "    returns\n",
    "    -------\n",
    "    df : pandas dataframe\n",
    "        artifitial object data\n",
    "    '''\n",
    "    \n",
    "    # load data\n",
    "    df = pd.read_csv(path, index_col=0)\n",
    "    \n",
    "    # baris terkahir bukan merupakan data artifitial object\n",
    "    df = df[:-1]\n",
    "    \n",
    "    print('original data shape:', df.shape)\n",
    "    \n",
    "    # dalam project ini kita akan menggunakan berat dengan satuan kg\n",
    "    # data yang beratnya berupa perkiraan (< atau >), kita gunakan berat perkiraannya\n",
    "    # data pada id 70, jika konversi lb ke kg, maka data yang benar data yang diluar kurung\n",
    "    df['Mass'] = df['Mass (kg)'].str.replace('<|>|,|\\[76\\]', '', regex=True)\n",
    "    \n",
    "    # ubah tipe data column 'Mass' menjadi int\n",
    "    df['Mass'] = df.Mass.astype(int)\n",
    "    \n",
    "    # country mapping\n",
    "    df['Country'] = df.Country.apply(lambda x: country_mapping(x))\n",
    "    contry = df.Country.str.get_dummies()\n",
    "    \n",
    "    # mengelompokkan setiap 10 tahun dan menjadikan decade petama = 0\n",
    "    df['Decade'] = df.Year.apply(lambda x: int(x) // 10 - 195)\n",
    "    \n",
    "    # membuat data 'survival' berdasarkan data 'status'\n",
    "    df['Survival'] = df.Status.apply(lambda x: 1-int('crashed' in str(x).lower()))\n",
    "    \n",
    "    df = contry.join(df[['Decade', 'Mass', 'Survival']])\n",
    "    print('final data shape:', df.shape)\n",
    "            \n",
    "    # generate feature and label\n",
    "    y = df['Survival']\n",
    "    X = df.drop('Survival', axis=1)    \n",
    "\n",
    "    return X, y"
   ]
  },
  {
   "cell_type": "code",
   "execution_count": 33,
   "id": "3a1bbf93",
   "metadata": {},
   "outputs": [
    {
     "name": "stdout",
     "output_type": "stream",
     "text": [
      "original data shape: (88, 7)\n",
      "final data shape: (88, 9)\n"
     ]
    }
   ],
   "source": [
    "X, y = load_artifitial_object_data('../data/List of Artificial Objects on the Moon.csv')"
   ]
  },
  {
   "cell_type": "code",
   "execution_count": 34,
   "id": "fb6f91fb",
   "metadata": {},
   "outputs": [
    {
     "data": {
      "text/html": [
       "<div>\n",
       "<style scoped>\n",
       "    .dataframe tbody tr th:only-of-type {\n",
       "        vertical-align: middle;\n",
       "    }\n",
       "\n",
       "    .dataframe tbody tr th {\n",
       "        vertical-align: top;\n",
       "    }\n",
       "\n",
       "    .dataframe thead th {\n",
       "        text-align: right;\n",
       "    }\n",
       "</style>\n",
       "<table border=\"1\" class=\"dataframe\">\n",
       "  <thead>\n",
       "    <tr style=\"text-align: right;\">\n",
       "      <th></th>\n",
       "      <th>china</th>\n",
       "      <th>india</th>\n",
       "      <th>japan</th>\n",
       "      <th>other</th>\n",
       "      <th>russia</th>\n",
       "      <th>united states</th>\n",
       "      <th>Decade</th>\n",
       "      <th>Mass</th>\n",
       "    </tr>\n",
       "  </thead>\n",
       "  <tbody>\n",
       "    <tr>\n",
       "      <th>0</th>\n",
       "      <td>0</td>\n",
       "      <td>0</td>\n",
       "      <td>0</td>\n",
       "      <td>0</td>\n",
       "      <td>1</td>\n",
       "      <td>0</td>\n",
       "      <td>0</td>\n",
       "      <td>390</td>\n",
       "    </tr>\n",
       "    <tr>\n",
       "      <th>1</th>\n",
       "      <td>0</td>\n",
       "      <td>0</td>\n",
       "      <td>0</td>\n",
       "      <td>0</td>\n",
       "      <td>1</td>\n",
       "      <td>0</td>\n",
       "      <td>0</td>\n",
       "      <td>9100</td>\n",
       "    </tr>\n",
       "    <tr>\n",
       "      <th>2</th>\n",
       "      <td>0</td>\n",
       "      <td>0</td>\n",
       "      <td>0</td>\n",
       "      <td>0</td>\n",
       "      <td>0</td>\n",
       "      <td>1</td>\n",
       "      <td>1</td>\n",
       "      <td>331</td>\n",
       "    </tr>\n",
       "    <tr>\n",
       "      <th>3</th>\n",
       "      <td>0</td>\n",
       "      <td>0</td>\n",
       "      <td>0</td>\n",
       "      <td>0</td>\n",
       "      <td>0</td>\n",
       "      <td>1</td>\n",
       "      <td>1</td>\n",
       "      <td>381</td>\n",
       "    </tr>\n",
       "    <tr>\n",
       "      <th>4</th>\n",
       "      <td>0</td>\n",
       "      <td>0</td>\n",
       "      <td>0</td>\n",
       "      <td>0</td>\n",
       "      <td>0</td>\n",
       "      <td>1</td>\n",
       "      <td>1</td>\n",
       "      <td>365</td>\n",
       "    </tr>\n",
       "  </tbody>\n",
       "</table>\n",
       "</div>"
      ],
      "text/plain": [
       "   china  india  japan  other  russia  united states  Decade  Mass\n",
       "0      0      0      0      0       1              0       0   390\n",
       "1      0      0      0      0       1              0       0  9100\n",
       "2      0      0      0      0       0              1       1   331\n",
       "3      0      0      0      0       0              1       1   381\n",
       "4      0      0      0      0       0              1       1   365"
      ]
     },
     "execution_count": 34,
     "metadata": {},
     "output_type": "execute_result"
    }
   ],
   "source": [
    "X.head()"
   ]
  },
  {
   "cell_type": "code",
   "execution_count": 35,
   "id": "9835e333",
   "metadata": {},
   "outputs": [
    {
     "data": {
      "text/plain": [
       "0    0\n",
       "1    0\n",
       "2    0\n",
       "3    0\n",
       "4    0\n",
       "Name: Survival, dtype: int64"
      ]
     },
     "execution_count": 35,
     "metadata": {},
     "output_type": "execute_result"
    }
   ],
   "source": [
    "y.head()"
   ]
  },
  {
   "cell_type": "markdown",
   "id": "f469cbf4",
   "metadata": {},
   "source": [
    "## 5. modeling"
   ]
  },
  {
   "cell_type": "code",
   "execution_count": 36,
   "id": "3f638d94",
   "metadata": {},
   "outputs": [
    {
     "name": "stdout",
     "output_type": "stream",
     "text": [
      "parameter terbaik: {'max_depth': None, 'n_estimators': 50}\n",
      "akurasi rata-rata: 0.7620915032679738\n"
     ]
    },
    {
     "data": {
      "text/plain": [
       "['../model/rfc_model.pkl']"
      ]
     },
     "execution_count": 36,
     "metadata": {},
     "output_type": "execute_result"
    }
   ],
   "source": [
    "model = RandomForestClassifier()\n",
    "\n",
    "# daftar parameter\n",
    "param_grid = {'n_estimators': [50, 100, 200],\n",
    "              'max_depth': [None, 10, 20]}\n",
    "\n",
    "# buat objek gridsearchcv dengan model, parameter grid, dan metrik evaluasi\n",
    "grid_search = GridSearchCV(model, param_grid, cv=5, scoring='accuracy')\n",
    "\n",
    "# lakukan pencarian parameter pada data dengan validasi silang\n",
    "grid_search.fit(X, y)\n",
    "\n",
    "# tampilkan parameter terbaik\n",
    "print('parameter terbaik:', grid_search.best_params_)\n",
    "\n",
    "# hitung akurasi model dengan cross_val_score menggunakan parameter terbaik\n",
    "best_model = grid_search.best_estimator_\n",
    "accuracy_scores = cross_val_score(best_model, X, y, cv=5, scoring='accuracy')\n",
    "\n",
    "# tampilkan akurasi rata-rata dari cross_val_score\n",
    "print('akurasi rata-rata:', accuracy_scores.mean())\n",
    "\n",
    "# save model\n",
    "joblib.dump(best_model, '../model/rfc_model.pkl')"
   ]
  },
  {
   "cell_type": "code",
   "execution_count": 37,
   "id": "92bdd39a",
   "metadata": {},
   "outputs": [
    {
     "name": "stdout",
     "output_type": "stream",
     "text": [
      "parameter terbaik: {'n_neighbors': 3, 'weights': 'uniform'}\n",
      "akurasi rata-rata: 0.7405228758169935\n"
     ]
    },
    {
     "data": {
      "text/plain": [
       "['../model/knn_model.pkl']"
      ]
     },
     "execution_count": 37,
     "metadata": {},
     "output_type": "execute_result"
    }
   ],
   "source": [
    "model = KNeighborsClassifier()\n",
    "\n",
    "# daftar parameter\n",
    "param_grid = {'n_neighbors': [3, 5, 7, 9],\n",
    "              'weights': ['uniform', 'distance']}\n",
    "\n",
    "# buat objek gridsearchcv dengan model, parameter grid, dan metrik evaluasi\n",
    "grid_search = GridSearchCV(model, param_grid, cv=5, scoring='accuracy')\n",
    "\n",
    "# lakukan pencarian parameter pada data dengan validasi silang\n",
    "grid_search.fit(X, y)\n",
    "\n",
    "# tampilkan parameter terbaik\n",
    "print('parameter terbaik:', grid_search.best_params_)\n",
    "\n",
    "# hitung akurasi model dengan cross_val_score menggunakan parameter terbaik\n",
    "best_model = grid_search.best_estimator_\n",
    "accuracy_scores = cross_val_score(best_model, X, y, cv=5, scoring='accuracy')\n",
    "\n",
    "# tampilkan akurasi rata-rata dari cross_val_score\n",
    "print('akurasi rata-rata:', accuracy_scores.mean())\n",
    "\n",
    "# save model\n",
    "joblib.dump(best_model, '../model/knn_model.pkl')"
   ]
  },
  {
   "cell_type": "code",
   "execution_count": null,
   "id": "c66c7c79",
   "metadata": {},
   "outputs": [],
   "source": []
  }
 ],
 "metadata": {
  "kernelspec": {
   "display_name": "Python 3 (ipykernel)",
   "language": "python",
   "name": "python3"
  },
  "language_info": {
   "codemirror_mode": {
    "name": "ipython",
    "version": 3
   },
   "file_extension": ".py",
   "mimetype": "text/x-python",
   "name": "python",
   "nbconvert_exporter": "python",
   "pygments_lexer": "ipython3",
   "version": "3.7.16"
  }
 },
 "nbformat": 4,
 "nbformat_minor": 5
}
